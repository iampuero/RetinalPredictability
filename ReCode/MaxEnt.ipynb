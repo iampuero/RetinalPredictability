{
 "cells": [
  {
   "cell_type": "code",
   "execution_count": 5,
   "id": "35c76f80-5025-415d-9a2a-acf42f012a1e",
   "metadata": {},
   "outputs": [],
   "source": [
    "import numpy as np"
   ]
  },
  {
   "cell_type": "code",
   "execution_count": 6,
   "id": "cf3ceafa-68fd-4639-a5be-4d24beb76de5",
   "metadata": {},
   "outputs": [],
   "source": [
    "def offset(i,l):\n",
    "    return (l+i * (l-2) - (i * (i-1))/2.0 - 1)\n",
    "\n",
    "def counter(i,j,length):\n",
    "    return i*length+j\n",
    "\n",
    "\n",
    "def fastIsingCorrZ(n,J,P,Z):\n",
    "    spins = np.zeros(n)\n",
    "    expJ = np.zeros((n,n))\n",
    "    for n1 in range(n):\n",
    "        for n2 in range(n1+1,n):\n",
    "            expJ[n1][n2] = np.exp(J[offset(n1,n)+n2])\n",
    "            expJ[n2][n1] = expJ[n1][n2]\n",
    "            \n",
    "    temp = 1.0\n",
    "    Z[0] = 1.0\n",
    "    Zterms = 2**n\n",
    "    for z in range(1,Zterms):\n",
    "        j=0\n",
    "        while ((z>>j)%2) == 0:\n",
    "            j+=1\n",
    "        if spins[j]:\n",
    "            for k in range(n):\n",
    "                if spins[k]:\n",
    "                    temp /= expJ[j][k]\n",
    "                spins[j]=0\n",
    "        else:\n",
    "            spins[j]=1\n",
    "            for k in range(n):\n",
    "                if spins[k]:\n",
    "                    temp *= expJ[j][k]\n",
    "        Z[0]+=temp\n",
    "    for n1 in range(n):\n",
    "        if spins[n1]:\n",
    "            P[n1]+=temp\n",
    "            for n2 in range(n1+1,n):\n",
    "                if spins[n2]:\n",
    "                    P[offset(n1,n)+n2]+=temp\n",
    "    for n1 in range((n*(n+1))/2):\n",
    "        p[n1]/=Z[0]\n",
    "    \n",
    "def fastExactCorrZ(N,J):\n",
    "    p = np.ones((N*(N+1))/2)\n",
    "    Z = np.ones(1)"
   ]
  },
  {
   "cell_type": "code",
   "execution_count": 8,
   "id": "dbd87b49-8992-40e5-a62f-42425dc4f282",
   "metadata": {},
   "outputs": [],
   "source": [
    "def exactLearningIC( N, p , jStart , epsTh ):\n",
    "    D = N*(N+1)/2\n",
    "    jList = jStart\n",
    "    delta = p*(1-p)\n",
    "    eps = 1.0\n",
    "    alpha = 0.1\n",
    "    step = 0\n",
    "    while eps>epsTh:\n",
    "        q,Z = fastExactCorrZ(N,jList)\n",
    "        jList = jList+alpha*(p-q)\n",
    "        eps = sum(((p-q)**2)/delta)/D\n",
    "        step+=1\n",
    "    \n",
    "        "
   ]
  },
  {
   "cell_type": "code",
   "execution_count": null,
   "id": "3fc59c6f-cf1c-47ab-9631-bb7a83dd3caf",
   "metadata": {},
   "outputs": [],
   "source": []
  }
 ],
 "metadata": {
  "kernelspec": {
   "display_name": "Python 3",
   "language": "python",
   "name": "python3"
  },
  "language_info": {
   "codemirror_mode": {
    "name": "ipython",
    "version": 3
   },
   "file_extension": ".py",
   "mimetype": "text/x-python",
   "name": "python",
   "nbconvert_exporter": "python",
   "pygments_lexer": "ipython3",
   "version": "3.6.13"
  }
 },
 "nbformat": 4,
 "nbformat_minor": 5
}
